{
 "cells": [
  {
   "attachments": {},
   "cell_type": "markdown",
   "metadata": {},
   "source": [
    "## Funciones"
   ]
  },
  {
   "attachments": {},
   "cell_type": "markdown",
   "metadata": {},
   "source": [
    "1) Crear una función que reciba un número como parámetro y devuelva True si es primo y False si no lo es"
   ]
  },
  {
   "cell_type": "code",
   "execution_count": 2,
   "metadata": {},
   "outputs": [],
   "source": [
    "def primar(n):\n",
    "    primo=True\n",
    "    for div in range(2, n):\n",
    "        if (n % div == 0):\n",
    "            primo = False\n",
    "            break\n",
    "    else:\n",
    "        primo = True\n",
    "  \n",
    "    return primo\n"
   ]
  },
  {
   "cell_type": "code",
   "execution_count": 3,
   "metadata": {},
   "outputs": [
    {
     "data": {
      "text/plain": [
       "True"
      ]
     },
     "execution_count": 3,
     "metadata": {},
     "output_type": "execute_result"
    }
   ],
   "source": [
    "primar(397)"
   ]
  },
  {
   "attachments": {},
   "cell_type": "markdown",
   "metadata": {},
   "source": [
    "2) Utilizando la función del punto 1, realizar otra función que reciba de parámetro una lista de números y devuelva sólo aquellos que son primos en otra lista"
   ]
  },
  {
   "cell_type": "code",
   "execution_count": 64,
   "metadata": {},
   "outputs": [],
   "source": [
    "def primar_varios(lista):\n",
    "    lista_primos=[]\n",
    "    for n in lista:\n",
    "        primo=True\n",
    "        for div in range(2, n):\n",
    "            if (n % div == 0):\n",
    "                primo = False\n",
    "                break\n",
    "        else:\n",
    "            primo = True\n",
    "            lista_primos.append(n)\n",
    "\n",
    "        n += 1\n",
    "    return lista_primos"
   ]
  },
  {
   "cell_type": "code",
   "execution_count": 65,
   "metadata": {},
   "outputs": [
    {
     "data": {
      "text/plain": [
       "[1, 2, 3, 5, 7, 11]"
      ]
     },
     "execution_count": 65,
     "metadata": {},
     "output_type": "execute_result"
    }
   ],
   "source": [
    "numeros=[1,2,3,4,5,6,7,8,9,10,11,111,123]\n",
    "primar_varios(numeros)"
   ]
  },
  {
   "attachments": {},
   "cell_type": "markdown",
   "metadata": {},
   "source": [
    "3) Crear una función que al recibir una lista de números, devuelva el que más se repite y cuántas veces lo hace. Si hay más de un \"más repetido\", que devuelva cualquiera"
   ]
  },
  {
   "cell_type": "code",
   "execution_count": 66,
   "metadata": {},
   "outputs": [
    {
     "data": {
      "text/plain": [
       "(0, 3)"
      ]
     },
     "execution_count": 66,
     "metadata": {},
     "output_type": "execute_result"
    }
   ],
   "source": [
    "def repetidos(lista):\n",
    "    modas=[]                   #acá vamos a guardar cuantas veces se repiten los numeros\n",
    "    for elemento in lista:    #para cada elemento de la lista\n",
    "       moda=lista.count(elemento)   # contamos cuantas veces está el elemento en la lista y lo guardamos como ndei\n",
    "       modas.append(moda)            #agregamos cada moda a la lista de modas\n",
    "       if moda ==max(modas):          #si esta moda es la mayor de todas (hasta esta iteración)\n",
    "           mayor=elemento                    #guardamos el número que tiene esta moda como mayor\n",
    "    modamayor=max(modas)              #guardamos la moda mayor como modamayor\n",
    "    return mayor , modamayor          #una vez afuera del loop retornamos moda mayor y numero con la moda mayor.\n",
    "nums=[1,1,1,3,4,5,5,5,6,7,8,9,0,0,0]\n",
    "repetidos(nums)"
   ]
  },
  {
   "cell_type": "code",
   "execution_count": 67,
   "metadata": {},
   "outputs": [
    {
     "data": {
      "text/plain": [
       "(5, 3)"
      ]
     },
     "execution_count": 67,
     "metadata": {},
     "output_type": "execute_result"
    }
   ],
   "source": [
    "\n",
    "nums=[1,1,1,3,4,5,5,5,6,7,8,9,0,0]\n",
    "repetidos(nums)"
   ]
  },
  {
   "cell_type": "markdown",
   "metadata": {},
   "source": [
    "Devuelve el último de la lista, si cualquiera significa uno al azar, no sé manejar azar todavía, si cualquiera quiere decir el que me sea más fácil entonces la wea funciona."
   ]
  },
  {
   "cell_type": "markdown",
   "metadata": {},
   "source": [
    "Bueno, está es la manera que se me ocurrió de solucionar el ejercicio. No es la más eficinente, aparentemente count y max loopean todo el tiempo y es poco eficiente. La consigna está solucionada pero vamos a estudiar la solución que dan acá"
   ]
  },
  {
   "cell_type": "code",
   "execution_count": 1,
   "metadata": {},
   "outputs": [],
   "source": [
    "def resolver(lista):\n",
    "    elementos_unicos=[]\n",
    "    elementos_repetidos=[]\n",
    "    for elemento in lista:\n",
    "        if elemento in elementos_unicos:\n",
    "            i= elementos_unicos.index(elemento)\n",
    "            elementos_repetidos[i]+=1\n",
    "\n",
    "        else:\n",
    "            elementos_unicos.append(elemento)\n",
    "            elementos_repetidos.append(1)\n",
    "    modamayor=max(elementos_repetidos)\n",
    "    ind=elementos_repetidos.index(modamayor)\n",
    "    numconmayormoda=elementos_unicos[ind]\n",
    "    return numconmayormoda, modamayor\n"
   ]
  },
  {
   "cell_type": "code",
   "execution_count": 69,
   "metadata": {},
   "outputs": [
    {
     "data": {
      "text/plain": [
       "(0, 4)"
      ]
     },
     "execution_count": 69,
     "metadata": {},
     "output_type": "execute_result"
    }
   ],
   "source": [
    "nums=[1,1,1,3,4,5,5,5,6,7,8,9,0,0,0,0]\n",
    "resolver(nums)"
   ]
  },
  {
   "cell_type": "markdown",
   "metadata": {},
   "source": [
    "Esta nueva versión mirando como resolvieron el ejercicio es más eficiente. Si bien no es exactamente igual tomé sobre todo la primera parte donde arma las dos listas con un solo for si count ni max.\n",
    "Al final decidí si usar un max para hacer la comparación menos engorrosa y aproveché que las lista de repeticiones y números seguían alineadas por indice para tomar así el número a partir del indice en la lista de repeticiones."
   ]
  },
  {
   "attachments": {},
   "cell_type": "markdown",
   "metadata": {},
   "source": [
    "4) Crear una función que convierta entre grados Celsius, Farenheit y Kelvin<br>\n",
    "Fórmula 1\t: (°C × 9/5) + 32 = °F<br>\n",
    "Fórmula 2\t: °C + 273.15 = °K<br>\n",
    "Debe recibir 3 parámetros: el valor, la medida de orígen y la medida de destino\n"
   ]
  },
  {
   "cell_type": "code",
   "execution_count": 70,
   "metadata": {},
   "outputs": [],
   "source": [
    "def convertir(numero,origen,destino):\n",
    "            if  origen==\"°F\":\n",
    "                    if destino == \"°F\":\n",
    "                            return numero, \"°F\"\n",
    "                    elif destino == \"°K\":\n",
    "                        res=(numero-32)* 5/9 + 273.15\n",
    "                        return res,\"°K\"\n",
    "                    elif destino == \"°C\":\n",
    "                        res= (numero - 32)* 5/9\n",
    "                        return res, \"°C\"\n",
    "                    else:\n",
    "                           print(\"Unidad de medida de destino inválida\")\n",
    "                \n",
    "            elif origen==\"°K\":\n",
    "                    if destino == \"°F\":\n",
    "                        res=(numero- 273.15) * 9/5 + 32\n",
    "                        return res, \"°F\"\n",
    "                    elif destino == \"°K\":\n",
    "                        return numero, \"°K\"\n",
    "                    elif destino == \"°C\":\n",
    "                        res= numero- 273.15\n",
    "                        return res, \"°C\"\n",
    "                    else:\n",
    "                           print(\"Unidad de medida de destino inválida\")\n",
    "            elif origen==\"°C\":\n",
    "                   if destino==\"°C\":\n",
    "                        return numero, \"°C\"\n",
    "                   elif destino==\"°K\":\n",
    "                         res= numero + 273.15\n",
    "                         return res, \"°K\"\n",
    "                   elif destino == \"°F\":\n",
    "                         res= (numero  * 9/5 + 32)\n",
    "                         return res, \"°F\"\n",
    "                   else:\n",
    "                      print(\"Unidad de medida de destino inválida\")   \n",
    "               \n",
    "                 \n",
    "            else :\n",
    "                    print(\"Unidad de medida de origen inválida\")\n",
    "              "
   ]
  },
  {
   "attachments": {},
   "cell_type": "markdown",
   "metadata": {},
   "source": [
    "5) Iterando una lista con los tres valores posibles de temperatura que recibe la función del punto 5, hacer un print para cada combinación de los mismos:"
   ]
  },
  {
   "cell_type": "code",
   "execution_count": 71,
   "metadata": {},
   "outputs": [
    {
     "name": "stdout",
     "output_type": "stream",
     "text": [
      "(10, '°F')\n",
      "(-12.222222222222221, '°C')\n",
      "(260.92777777777775, '°K')\n",
      "(50.0, '°F')\n",
      "(10, '°C')\n",
      "(283.15, '°K')\n",
      "(-441.66999999999996, '°F')\n",
      "(-263.15, '°C')\n",
      "(10, '°K')\n"
     ]
    }
   ],
   "source": [
    "lista=[\"°F\",\"°C\",\"°K\"]\n",
    "for i in range(0,3):\n",
    "    for j in range(0,3):\n",
    "        origen=lista[i]\n",
    "        destino=lista[j]\n",
    "        total=convertir(10,origen,destino)\n",
    "        print(total)\n",
    "\n",
    "\n"
   ]
  },
  {
   "attachments": {},
   "cell_type": "markdown",
   "metadata": {},
   "source": [
    "6) Armar una función que devuelva el factorial de un número. Tener en cuenta que el usuario puede equivocarse y enviar de parámetro un número no entero o negativo"
   ]
  },
  {
   "cell_type": "code",
   "execution_count": 72,
   "metadata": {},
   "outputs": [],
   "source": [
    "def factorial(num):\n",
    "    \"\"\"Función recursiva que como su nombre lo indica calcula el factorial de un número\"\"\"\n",
    "    if num > 1:\n",
    "        num=num*factorial(num-1)\n",
    "    return num\n"
   ]
  },
  {
   "cell_type": "markdown",
   "metadata": {},
   "source": []
  },
  {
   "cell_type": "code",
   "execution_count": 73,
   "metadata": {},
   "outputs": [
    {
     "data": {
      "text/plain": [
       "3628800"
      ]
     },
     "execution_count": 73,
     "metadata": {},
     "output_type": "execute_result"
    }
   ],
   "source": [
    "factorial(10)"
   ]
  },
  {
   "cell_type": "code",
   "execution_count": 74,
   "metadata": {},
   "outputs": [
    {
     "name": "stdout",
     "output_type": "stream",
     "text": [
      "Help on function factorial in module __main__:\n",
      "\n",
      "factorial(num)\n",
      "    Función recursiva que como su nombre lo indica calcula el factorial de un número\n",
      "\n"
     ]
    }
   ],
   "source": [
    "help(factorial)"
   ]
  }
 ],
 "metadata": {
  "kernelspec": {
   "display_name": "Python 3",
   "language": "python",
   "name": "python3"
  },
  "language_info": {
   "codemirror_mode": {
    "name": "ipython",
    "version": 3
   },
   "file_extension": ".py",
   "mimetype": "text/x-python",
   "name": "python",
   "nbconvert_exporter": "python",
   "pygments_lexer": "ipython3",
   "version": "3.13.5"
  }
 },
 "nbformat": 4,
 "nbformat_minor": 4
}
