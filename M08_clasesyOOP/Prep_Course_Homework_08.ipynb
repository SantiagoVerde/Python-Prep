{
 "cells": [
  {
   "attachments": {},
   "cell_type": "markdown",
   "metadata": {},
   "source": [
    "## Clases y Programación Orientada a Objetos"
   ]
  },
  {
   "cell_type": "markdown",
   "metadata": {},
   "source": [
    "Clase y objeto (instanciación), re platónico"
   ]
  },
  {
   "attachments": {},
   "cell_type": "markdown",
   "metadata": {},
   "source": [
    "1) Crear la clase vehículo que contenga los atributos:<br>\n",
    "Color<br>\n",
    "Si es moto, auto, camioneta ó camión<br>\n",
    "Cilindrada del motor"
   ]
  },
  {
   "cell_type": "code",
   "execution_count": 29,
   "metadata": {},
   "outputs": [],
   "source": [
    "class Vehículo:\n",
    "    def __init__ (self,color,tipo,cilindrada):\n",
    "        self.__color=color\n",
    "        self.tipo=tipo\n",
    "        self.cilindrada=cilindrada\n",
    "        # Método Presentar\n",
    "    def presentar(self):\n",
    "        print(\"Color:\",self.__color ,\"Tipo:\",self.tipo,\"Cilindrada:\",self.cilindrada)\n",
    "    def vercolor(self):\n",
    "        print(self.__color)\n",
    "vehículo1= Vehículo(\"rojo\",\"moto\",150)\n"
   ]
  },
  {
   "cell_type": "code",
   "execution_count": 21,
   "metadata": {},
   "outputs": [
    {
     "name": "stdout",
     "output_type": "stream",
     "text": [
      "Color: rojo /n Tipo: moto /n Cilindrada: 150\n"
     ]
    }
   ],
   "source": [
    "vehículo1.presentar()"
   ]
  },
  {
   "cell_type": "code",
   "execution_count": 30,
   "metadata": {},
   "outputs": [
    {
     "name": "stdout",
     "output_type": "stream",
     "text": [
      "rojo\n"
     ]
    }
   ],
   "source": [
    "vehículo1.vercolor()"
   ]
  },
  {
   "attachments": {},
   "cell_type": "markdown",
   "metadata": {},
   "source": [
    "2) A la clase Vehiculo creada en el punto 1, agregar los siguientes métodos:<br>\n",
    "Acelerar<br>\n",
    "Frenar<br>\n",
    "Doblar<br>"
   ]
  },
  {
   "cell_type": "code",
   "execution_count": null,
   "metadata": {},
   "outputs": [
    {
     "data": {
      "text/plain": [
       "<bound method Vehículo.presentar of <__main__.Vehículo object at 0x000001EBDE5A0830>>"
      ]
     },
     "execution_count": 36,
     "metadata": {},
     "output_type": "execute_result"
    }
   ],
   "source": [
    "class Vehículo:\n",
    "    def __init__ (self,color,tipo,cilindrada):\n",
    "        self.__color=color\n",
    "        self.tipo=tipo\n",
    "        self.cilindrada=cilindrada\n",
    "        # Método Presentar\n",
    "    def presentar(self):\n",
    "        print(\"Color:\",self.__color ,\"Tipo:\",self.tipo,\"Cilindrada:\",self.cilindrada)\n",
    "    def Acelerar(self):\n",
    "        velocidad+= 10\n",
    "    def Frenar(self):\n",
    "        velocidad-=10\n",
    "        \n",
    "    def Doblar(self):\n",
    "        firstturn= True\n",
    "        if firstturn==True:\n",
    "            direction= \"Norte\"\n",
    "            firstturn=False\n",
    "        else:\n",
    "            if direction==\"Norte\":\n",
    "                direction=\"Este\"\n",
    "            elif  direction==\"Este\":\n",
    "                direction=\"Sur\"\n",
    "            elif  direction==\"Sur\":\n",
    "                direction=\"Oeste\"\n",
    "            elif  direction==\"Oeste\":\n",
    "                direction=\"Norte\"\n",
    "            \n",
    "\n",
    "\n"
   ]
  },
  {
   "attachments": {},
   "cell_type": "markdown",
   "metadata": {},
   "source": [
    "3) Instanciar 3 objetos de la clase vehículo y ejecutar sus métodos, probar luego el resultado"
   ]
  },
  {
   "cell_type": "code",
   "execution_count": 38,
   "metadata": {},
   "outputs": [
    {
     "name": "stdout",
     "output_type": "stream",
     "text": [
      "Color: negro Tipo: moto Cilindrada: 150\n",
      "Color: rojo Tipo: moto Cilindrada: 250\n",
      "Color: rojo Tipo: auto Cilindrada: 1150\n"
     ]
    }
   ],
   "source": [
    "v2= Vehículo(\"negro\",\"moto\",150)\n",
    "v3= Vehículo(\"rojo\",\"moto\",250)\n",
    "v4= Vehículo(\"rojo\",\"auto\",1150)\n",
    "v2.presentar()\n",
    "v2.Acelerar()\n",
    "v2.Frenar()\n",
    "v2.Doblar()\n",
    "v3.presentar()\n",
    "v3.Acelerar()\n",
    "v3.Frenar()\n",
    "v3.Doblar()\n",
    "v4.presentar()\n",
    "v4.Acelerar()\n",
    "v4.Frenar()\n",
    "v4.Doblar()"
   ]
  },
  {
   "attachments": {},
   "cell_type": "markdown",
   "metadata": {},
   "source": [
    "4) Agregar a la clase Vehiculo, un método que muestre su estado, es decir, a que velocidad se encuentra y su dirección. Y otro método que muestre color, tipo y cilindrada"
   ]
  },
  {
   "cell_type": "code",
   "execution_count": 49,
   "metadata": {},
   "outputs": [],
   "source": [
    "class Vehículo:\n",
    "    def __init__ (self,color,tipo,cilindrada):\n",
    "        self.__color=color\n",
    "        self.tipo=tipo\n",
    "        self.cilindrada=cilindrada\n",
    "        self.velocidad=0\n",
    "        self.direction=\"Norte\"\n",
    "        # Método Presentar\n",
    "    def presentar(self):\n",
    "        print(\"Color:\",self.__color ,\"Tipo:\",self.tipo,\"Cilindrada:\",self.cilindrada)\n",
    "    def Acelerar(self):\n",
    "        self.velocidad+= 10\n",
    "\n",
    "        \n",
    "    def Frenar(self):\n",
    "        self.velocidad-=10\n",
    "        \n",
    "    def Doblar(self):\n",
    "         if self.direction==\"Norte\":\n",
    "            self.direction=\"Este\"\n",
    "         elif  self.direction==\"Este\":\n",
    "            self.direction=\"Sur\"\n",
    "         elif  self.direction==\"Sur\":\n",
    "            self.direction=\"Oeste\"\n",
    "         elif  self.direction==\"Oeste\":\n",
    "            self.direction=\"Norte\"\n",
    "    def estado(self):\n",
    "        print(\"self.velocidad:\",self.velocidad,\"Dirección:\", self.direction)"
   ]
  },
  {
   "cell_type": "code",
   "execution_count": 50,
   "metadata": {},
   "outputs": [
    {
     "name": "stdout",
     "output_type": "stream",
     "text": [
      "Color: negro Tipo: moto Cilindrada: 150\n",
      "self.velocidad: 10 Dirección: Este\n",
      "Color: rojo Tipo: moto Cilindrada: 250\n",
      "self.velocidad: 10 Dirección: Este\n",
      "Color: rojo Tipo: auto Cilindrada: 1150\n",
      "self.velocidad: 30 Dirección: Sur\n"
     ]
    }
   ],
   "source": [
    "v2= Vehículo(\"negro\",\"moto\",150)\n",
    "v3= Vehículo(\"rojo\",\"moto\",250)\n",
    "v4= Vehículo(\"rojo\",\"auto\",1150)\n",
    "v2.presentar()\n",
    "v2.Acelerar()\n",
    "v2.Acelerar()\n",
    "v2.Frenar()\n",
    "v2.Doblar()\n",
    "v2.estado()\n",
    "v3.presentar()\n",
    "v3.Acelerar()\n",
    "v3.Acelerar()\n",
    "v3.Frenar()\n",
    "v3.Doblar()\n",
    "v3.estado()\n",
    "v4.presentar()\n",
    "v4.Acelerar()\n",
    "v4.Acelerar()\n",
    "v4.Acelerar()\n",
    "v4.Acelerar()\n",
    "v4.Frenar()\n",
    "v4.Doblar()\n",
    "v4.Doblar()\n",
    "v4.estado()"
   ]
  },
  {
   "attachments": {},
   "cell_type": "markdown",
   "metadata": {},
   "source": [
    "5) Crear una clase que permita utilizar las funciones creadas en la práctica del módulo 7<br>\n",
    "Verificar Primo<br>\n",
    "Valor modal<br>\n",
    "Conversión grados<br>\n",
    "Factorial<br>"
   ]
  },
  {
   "cell_type": "code",
   "execution_count": 86,
   "metadata": {},
   "outputs": [],
   "source": [
    "class numeros:\n",
    "    def __init__(self,n,origen,destino,lista):\n",
    "        self.n=n\n",
    "        self.origen=origen\n",
    "        self.destino=destino\n",
    "        self.lista=lista\n",
    "        self.i=0\n",
    "\n",
    "    \n",
    "    def primar(self):\n",
    "        primo=True\n",
    "        for div in range(2, self.n):\n",
    "            if (self.n % div == 0):\n",
    "                primo = False\n",
    "                break\n",
    "            else:\n",
    "                primo = True\n",
    "        \n",
    "            return primo\n",
    "        \n",
    "    \n",
    "    def resolver(self):\n",
    "        elementos_unicos=[]\n",
    "        elementos_repetidos=[]\n",
    "        for elemento in self.lista:\n",
    "            if elemento in elementos_unicos:\n",
    "             \n",
    "                i= elementos_unicos.index(elemento)\n",
    "                elementos_repetidos[i]+=1\n",
    "            else:\n",
    "                elementos_unicos.append(elemento)\n",
    "                elementos_repetidos.append(1)\n",
    "        modamayor=max(elementos_repetidos)\n",
    "        ind=elementos_repetidos.index(modamayor)\n",
    "        self.nconmayormoda=elementos_unicos[ind]\n",
    "        return self.nconmayormoda, modamayor\n",
    "        \n",
    "   \n",
    "   \n",
    "   \n",
    "    def convertir(self):\n",
    "            if  self.origen==\"°F\":\n",
    "                    if self.destino == \"°F\":\n",
    "                            return self.n, \"°F\"\n",
    "                    elif self.destino == \"°K\":\n",
    "                        res=(self.n-32)* 5/9 + 273.15\n",
    "                        return res,\"°K\"\n",
    "                    elif self.destino == \"°C\":\n",
    "                        res= (self.n - 32)* 5/9\n",
    "                        return res, \"°C\"\n",
    "                    else:\n",
    "                           print(\"Unidad de medida de self.destino inválida\")\n",
    "                \n",
    "            elif self.origen==\"°K\":\n",
    "                    if self.destino == \"°F\":\n",
    "                        res=(self.n- 273.15) * 9/5 + 32\n",
    "                        return res, \"°F\"\n",
    "                    elif self.destino == \"°K\":\n",
    "                        return self.n, \"°K\"\n",
    "                    elif self.destino == \"°C\":\n",
    "                        res= self.n- 273.15\n",
    "                        return res, \"°C\"\n",
    "                    else:\n",
    "                           print(\"Unidad de medida de self.destino inválida\")\n",
    "            elif self.origen==\"°C\":\n",
    "                   if self.destino==\"°C\":\n",
    "                        return self.n, \"°C\"\n",
    "                   elif self.destino==\"°K\":\n",
    "                         res= self.n + 273.15\n",
    "                         return res, \"°K\"\n",
    "                   elif self.destino == \"°F\":\n",
    "                         res= (self.n  * 9/5 + 32)\n",
    "                         return res, \"°F\"\n",
    "                   else:\n",
    "                      print(\"Unidad de medida de self.destino inválida\")   \n",
    "               \n",
    "                 \n",
    "            else :\n",
    "                    print(\"Unidad de medida de self.origen inválida\")\n",
    "    def factorial(self):\n",
    "        resultado = 1\n",
    "        for i in range(1, self.n + 1):\n",
    "            resultado *= i\n",
    "        return resultado\n",
    "      \n",
    "            "
   ]
  },
  {
   "attachments": {},
   "cell_type": "markdown",
   "metadata": {},
   "source": [
    "6) Probar las funciones incorporadas en la clase del punto 5"
   ]
  },
  {
   "cell_type": "code",
   "execution_count": 87,
   "metadata": {},
   "outputs": [
    {
     "name": "stdout",
     "output_type": "stream",
     "text": [
      "(286.15, '°K')\n",
      "True\n",
      "(7, 5)\n",
      "6227020800\n"
     ]
    }
   ],
   "source": [
    "lista=[1,2,3,3,4,5,6,7,7,7,7,7,2]\n",
    "prueba=numeros(13,\"°C\",\"°K\",lista)\n",
    "print(prueba.convertir())\n",
    "print(prueba.primar())\n",
    "print(prueba.resolver())\n",
    "print(prueba.factorial())"
   ]
  },
  {
   "cell_type": "markdown",
   "metadata": {},
   "source": [
    "funciona aunque no es lo más practico del mundo pq tenés que cargar todos los valores en cada objeto. Eso sí nunca más tenés que cargar un valor. Además con sólo self no funciona la recursividad, explota por que nome deja hacer self.n-1 en el factorial, así que lo tuve que cambiar todo.\n"
   ]
  },
  {
   "cell_type": "code",
   "execution_count": 128,
   "metadata": {},
   "outputs": [],
   "source": [
    "\"\"\"Nueva versión teniendo en cuenta que puedo cargar valores para cada vez que uso una función y no las tengo que cargar todas de entra.\"\"\"\n",
    "class herramientas:\n",
    "    def __init__(self):\n",
    "        pass\n",
    "    def primar(self,n):\n",
    "        primo=True\n",
    "        for div in range(2, n):\n",
    "            if (n % div == 0):\n",
    "                primo = False\n",
    "                break\n",
    "        else:\n",
    "            primo = True\n",
    "  \n",
    "        return primo\n",
    "    def resolver(self,lista):\n",
    "        elementos_unicos=[]\n",
    "        elementos_repetidos=[]\n",
    "        for elemento in lista:\n",
    "            if elemento in elementos_unicos:\n",
    "                i= elementos_unicos.index(elemento)\n",
    "                elementos_repetidos[i]+=1\n",
    "\n",
    "            else:\n",
    "             elementos_unicos.append(elemento)\n",
    "             elementos_repetidos.append(1)\n",
    "        modamayor=max(elementos_repetidos)\n",
    "        ind=elementos_repetidos.index(modamayor)\n",
    "        numconmayormoda=elementos_unicos[ind]\n",
    "        return numconmayormoda, modamayor\n",
    "    \n",
    "    def convertir(self,numero,origen,destino):\n",
    "            if  origen==\"°F\":\n",
    "                    if destino == \"°F\":\n",
    "                            return numero, \"°F\"\n",
    "                    elif destino == \"°K\":\n",
    "                        res=(numero-32)* 5/9 + 273.15\n",
    "                        return res,\"°K\"\n",
    "                    elif destino == \"°C\":\n",
    "                        res= (numero - 32)* 5/9\n",
    "                        return res, \"°C\"\n",
    "                    else:\n",
    "                           print(\"Unidad de medida de destino inválida\")\n",
    "                \n",
    "            elif origen==\"°K\":\n",
    "                    if destino == \"°F\":\n",
    "                        res=(numero- 273.15) * 9/5 + 32\n",
    "                        return res, \"°F\"\n",
    "                    elif destino == \"°K\":\n",
    "                        return numero, \"°K\"\n",
    "                    elif destino == \"°C\":\n",
    "                        res= numero- 273.15\n",
    "                        return res, \"°C\"\n",
    "                    else:\n",
    "                           print(\"Unidad de medida de destino inválida\")\n",
    "            elif origen==\"°C\":\n",
    "                   if destino==\"°C\":\n",
    "                        return numero, \"°C\"\n",
    "                   elif destino==\"°K\":\n",
    "                         res= numero + 273.15\n",
    "                         return res, \"°K\"\n",
    "                   elif destino == \"°F\":\n",
    "                         res= (numero  * 9/5 + 32)\n",
    "                         return res, \"°F\"\n",
    "                   else:\n",
    "                      print(\"Unidad de medida de destino inválida\")   \n",
    "               \n",
    "                 \n",
    "            else :\n",
    "                    print(\"Unidad de medida de origen inválida\")\n",
    "\n",
    "    def factorial(self,num):\n",
    "        if num > 1:\n",
    "            num=num* self.factorial(num-1)\n",
    "        return num\n",
    "\n",
    "              \n"
   ]
  },
  {
   "cell_type": "code",
   "execution_count": 127,
   "metadata": {},
   "outputs": [
    {
     "name": "stdout",
     "output_type": "stream",
     "text": [
      "(286.15, '°K')\n",
      "True\n",
      "(7, 5)\n",
      "6227020800\n"
     ]
    }
   ],
   "source": [
    "h=herramientas()\n",
    "lista=[1,2,3,3,4,5,6,7,7,7,7,7,2]\n",
    "print(h.convertir(13,\"°C\",\"°K\"))\n",
    "print(h.primar(13))\n",
    "print(h.resolver(lista))\n",
    "print(h.factorial(13))"
   ]
  },
  {
   "attachments": {},
   "cell_type": "markdown",
   "metadata": {},
   "source": [
    "7) Es necesario que la clase creada en el punto 5 contenga una lista, sobre la cual se apliquen las funciones incorporadas"
   ]
  },
  {
   "cell_type": "code",
   "execution_count": 132,
   "metadata": {},
   "outputs": [],
   "source": [
    "class Herramientas:\n",
    "\n",
    "    def __init__(self, listaaplicar):\n",
    "        self.listaaplica=listaaplicar\n",
    "\n",
    "    def primar(self):\n",
    "         for i in self.listaaplica:\n",
    "            if (self.__primar(i)):\n",
    "                print(i, \"es un número primo\")\n",
    "            else:\n",
    "                print(i,\"no es un número primo\")\n",
    "                   \n",
    "    def __primar(self,n):\n",
    "        primo=True\n",
    "        for div in range(2, n):\n",
    "            if (n % div == 0):\n",
    "                primo = False\n",
    "                break\n",
    "        else:\n",
    "            primo = True\n",
    "  \n",
    "        return primo\n",
    "    \n",
    "    def resolver(self):\n",
    "        elementos_unicos=[]\n",
    "        elementos_repetidos=[]\n",
    "        for elemento in self.listaaplica:\n",
    "            if elemento in elementos_unicos:\n",
    "                i= elementos_unicos.index(elemento)\n",
    "                elementos_repetidos[i]+=1\n",
    "\n",
    "            else:\n",
    "             elementos_unicos.append(elemento)\n",
    "             elementos_repetidos.append(1)\n",
    "        modamayor=max(elementos_repetidos)\n",
    "        ind=elementos_repetidos.index(modamayor)\n",
    "        numconmayormoda=elementos_unicos[ind]\n",
    "        return numconmayormoda, modamayor\n",
    "    \n",
    "\n",
    "    def convertir(self,origen,destino):\n",
    "         for n in self.listaaplica:\n",
    "              print(n,\"grados\",origen,\"son\",self.__convertir(n,origen,destino))\n",
    "\n",
    "\n",
    "\n",
    "    def __convertir(self,numero,origen,destino):\n",
    "            if  origen==\"°F\":\n",
    "                    if destino == \"°F\":\n",
    "                            return numero, \"°F\"\n",
    "                    elif destino == \"°K\":\n",
    "                        res=(numero-32)* 5/9 + 273.15\n",
    "                        return res,\"°K\"\n",
    "                    elif destino == \"°C\":\n",
    "                        res= (numero - 32)* 5/9\n",
    "                        return res, \"°C\"\n",
    "                    else:\n",
    "                           print(\"Unidad de medida de destino inválida\")\n",
    "                \n",
    "            elif origen==\"°K\":\n",
    "                    if destino == \"°F\":\n",
    "                        res=(numero- 273.15) * 9/5 + 32\n",
    "                        return res, \"°F\"\n",
    "                    elif destino == \"°K\":\n",
    "                        return numero, \"°K\"\n",
    "                    elif destino == \"°C\":\n",
    "                        res= numero- 273.15\n",
    "                        return res, \"°C\"\n",
    "                    else:\n",
    "                           print(\"Unidad de medida de destino inválida\")\n",
    "            elif origen==\"°C\":\n",
    "                   if destino==\"°C\":\n",
    "                        return numero, \"°C\"\n",
    "                   elif destino==\"°K\":\n",
    "                         res= numero + 273.15\n",
    "                         return res, \"°K\"\n",
    "                   elif destino == \"°F\":\n",
    "                         res= (numero  * 9/5 + 32)\n",
    "                         return res, \"°F\"\n",
    "                   else:\n",
    "                      print(\"Unidad de medida de destino inválida\")   \n",
    "               \n",
    "                 \n",
    "            else :\n",
    "                    print(\"Unidad de medida de origen inválida\")\n",
    "\n",
    "\n",
    "    def factorial(self):\n",
    "         for num in self.listaaplica:\n",
    "              print(\"El factorial de\",num,\"es\",self.__factorial(num))\n",
    "    def __factorial(self,num):\n",
    "        if num > 1:\n",
    "            num=num* self.__factorial(num-1)\n",
    "        return num"
   ]
  },
  {
   "cell_type": "code",
   "execution_count": null,
   "metadata": {},
   "outputs": [],
   "source": [
    "lista=[1,2,3,3,4,5,6,7,7,7,7,7,2]\n",
    "h=Herramientas(lista)\n",
    "\n",
    "\n"
   ]
  },
  {
   "cell_type": "code",
   "execution_count": 138,
   "metadata": {},
   "outputs": [
    {
     "name": "stdout",
     "output_type": "stream",
     "text": [
      "1 es un número primo\n",
      "2 es un número primo\n",
      "3 es un número primo\n",
      "3 es un número primo\n",
      "4 no es un número primo\n",
      "5 es un número primo\n",
      "6 no es un número primo\n",
      "7 es un número primo\n",
      "7 es un número primo\n",
      "7 es un número primo\n",
      "7 es un número primo\n",
      "7 es un número primo\n",
      "2 es un número primo\n"
     ]
    }
   ],
   "source": [
    "h.primar()"
   ]
  },
  {
   "cell_type": "code",
   "execution_count": 139,
   "metadata": {},
   "outputs": [
    {
     "name": "stdout",
     "output_type": "stream",
     "text": [
      "1 grados °C son (274.15, '°K')\n",
      "2 grados °C son (275.15, '°K')\n",
      "3 grados °C son (276.15, '°K')\n",
      "3 grados °C son (276.15, '°K')\n",
      "4 grados °C son (277.15, '°K')\n",
      "5 grados °C son (278.15, '°K')\n",
      "6 grados °C son (279.15, '°K')\n",
      "7 grados °C son (280.15, '°K')\n",
      "7 grados °C son (280.15, '°K')\n",
      "7 grados °C son (280.15, '°K')\n",
      "7 grados °C son (280.15, '°K')\n",
      "7 grados °C son (280.15, '°K')\n",
      "2 grados °C son (275.15, '°K')\n"
     ]
    }
   ],
   "source": [
    "h.convertir(\"°C\",\"°K\")"
   ]
  },
  {
   "cell_type": "code",
   "execution_count": 140,
   "metadata": {},
   "outputs": [
    {
     "name": "stdout",
     "output_type": "stream",
     "text": [
      "(7, 5)\n"
     ]
    }
   ],
   "source": [
    "\n",
    "print(h.resolver())"
   ]
  },
  {
   "cell_type": "code",
   "execution_count": 141,
   "metadata": {},
   "outputs": [
    {
     "name": "stdout",
     "output_type": "stream",
     "text": [
      "El factorial de 1 es 1\n",
      "El factorial de 2 es 2\n",
      "El factorial de 3 es 6\n",
      "El factorial de 3 es 6\n",
      "El factorial de 4 es 24\n",
      "El factorial de 5 es 120\n",
      "El factorial de 6 es 720\n",
      "El factorial de 7 es 5040\n",
      "El factorial de 7 es 5040\n",
      "El factorial de 7 es 5040\n",
      "El factorial de 7 es 5040\n",
      "El factorial de 7 es 5040\n",
      "El factorial de 2 es 2\n"
     ]
    }
   ],
   "source": [
    "h.factorial()"
   ]
  },
  {
   "attachments": {},
   "cell_type": "markdown",
   "metadata": {},
   "source": [
    "8) Crear un archivo .py aparte y ubicar allí la clase generada en el punto anterior. Luego realizar la importación del módulo y probar alguna de sus funciones"
   ]
  },
  {
   "cell_type": "code",
   "execution_count": null,
   "metadata": {},
   "outputs": [],
   "source": [
    "\n",
    "import sys\n",
    "sys.path.append(r\"C:\\Users\\sabri\\Santi\")\n",
    "from Herramientas import Herramientas\n",
    "lista=[1,2,3,3,4,5,6,7,7,7,7,7,2]\n",
    "h=Herramientas(lista)\n",
    "h.primar()\n",
    "\n",
    "\n"
   ]
  }
 ],
 "metadata": {
  "kernelspec": {
   "display_name": "Python 3",
   "language": "python",
   "name": "python3"
  },
  "language_info": {
   "codemirror_mode": {
    "name": "ipython",
    "version": 3
   },
   "file_extension": ".py",
   "mimetype": "text/x-python",
   "name": "python",
   "nbconvert_exporter": "python",
   "pygments_lexer": "ipython3",
   "version": "3.13.5"
  }
 },
 "nbformat": 4,
 "nbformat_minor": 4
}
