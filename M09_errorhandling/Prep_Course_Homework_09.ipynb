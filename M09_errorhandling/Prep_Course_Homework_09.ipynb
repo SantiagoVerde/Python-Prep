{
 "cells": [
  {
   "attachments": {},
   "cell_type": "markdown",
   "metadata": {},
   "source": [
    "## Manejo de errores"
   ]
  },
  {
   "attachments": {},
   "cell_type": "markdown",
   "metadata": {},
   "source": [
    "1) Con la clase creada en el módulo 7, tener en cuenta diferentes casos en que el código pudiera arrojar error. Por ejemplo, en la creación del objeto recibimos una lista de números enteros pero ¿qué pasa si se envía otro tipo de dato?"
   ]
  },
  {
   "cell_type": "code",
   "execution_count": null,
   "metadata": {},
   "outputs": [],
   "source": [
    "class Herramientas:\n",
    "\n",
    "    def __init__(self, listaaplicar):\n",
    "        self.listaaplica=listaaplicar    #si esto no es una lista de números esto va mal algún error tira seguro\n",
    "\n",
    "    def primar(self):\n",
    "         for i in self.listaaplica:\n",
    "            if (self.__primar(i)):\n",
    "                print(i, \"es un número primo\")\n",
    "            else:\n",
    "                print(i,\"no es un número primo\")\n",
    "                   \n",
    "    def __primar(self,n):          #si esto no es un número algún error hay, \n",
    "        primo=True\n",
    "        for div in range(2, n):     #si tira numeros menores a dos hay que ver como se comporta esto\n",
    "            if (n % div == 0):       #negativos? divide por 0?\n",
    "                primo = False\n",
    "                break\n",
    "        else:\n",
    "            primo = True\n",
    "  \n",
    "        return primo\n",
    "    \n",
    "    def resolver(self):                  #si self es una lista esto deberia andar, y self ser una lista va arriba\n",
    "        elementos_unicos=[]\n",
    "        elementos_repetidos=[]\n",
    "        for elemento in self.listaaplica:\n",
    "            if elemento in elementos_unicos:\n",
    "                i= elementos_unicos.index(elemento)\n",
    "                elementos_repetidos[i]+=1\n",
    "\n",
    "            else:\n",
    "             elementos_unicos.append(elemento)\n",
    "             elementos_repetidos.append(1)\n",
    "        modamayor=max(elementos_repetidos)\n",
    "        ind=elementos_repetidos.index(modamayor)\n",
    "        numconmayormoda=elementos_unicos[ind]\n",
    "        return numconmayormoda, modamayor\n",
    "    \n",
    "\n",
    "    def convertir(self,origen,destino):        #si no pone EXACTAMENTE LOS °F,°K O °C va a tirar error\n",
    "         for n in self.listaaplica:\n",
    "              print(n,\"grados\",origen,\"son\",self.__convertir(n,origen,destino))\n",
    "\n",
    "\n",
    "\n",
    "    def __convertir(self,numero,origen,destino):\n",
    "            if  origen==\"°F\":\n",
    "                    if destino == \"°F\":\n",
    "                            return numero, \"°F\"\n",
    "                    elif destino == \"°K\":\n",
    "                        res=(numero-32)* 5/9 + 273.15\n",
    "                        return res,\"°K\"\n",
    "                    elif destino == \"°C\":\n",
    "                        res= (numero - 32)* 5/9\n",
    "                        return res, \"°C\"\n",
    "                    else:\n",
    "                           print(\"Unidad de medida de destino inválida\")\n",
    "                \n",
    "            elif origen==\"°K\":\n",
    "                    if destino == \"°F\":\n",
    "                        res=(numero- 273.15) * 9/5 + 32\n",
    "                        return res, \"°F\"\n",
    "                    elif destino == \"°K\":\n",
    "                        return numero, \"°K\"\n",
    "                    elif destino == \"°C\":\n",
    "                        res= numero- 273.15\n",
    "                        return res, \"°C\"\n",
    "                    else:\n",
    "                           print(\"Unidad de medida de destino inválida\")\n",
    "            elif origen==\"°C\":\n",
    "                   if destino==\"°C\":\n",
    "                        return numero, \"°C\"\n",
    "                   elif destino==\"°K\":\n",
    "                         res= numero + 273.15\n",
    "                         return res, \"°K\"\n",
    "                   elif destino == \"°F\":\n",
    "                         res= (numero  * 9/5 + 32)\n",
    "                         return res, \"°F\"\n",
    "                   else:\n",
    "                      print(\"Unidad de medida de destino inválida\")   \n",
    "               \n",
    "                 \n",
    "            else :\n",
    "                    print(\"Unidad de medida de origen inválida\")\n",
    "\n",
    "\n",
    "    def factorial(self):                             #que pasa con 0 y negativos\n",
    "         for num in self.listaaplica:\n",
    "              print(\"El factorial de\",num,\"es\",self.__factorial(num))\n",
    "    def __factorial(self,num):\n",
    "        if num > 1:\n",
    "            num=num* self.__factorial(num-1)\n",
    "        return num"
   ]
  },
  {
   "attachments": {},
   "cell_type": "markdown",
   "metadata": {},
   "source": [
    "2) En la función que hace la conversión de grados, validar que los parámetros enviados sean los esperados, de no serlo, informar cuáles son los valores esperados."
   ]
  },
  {
   "cell_type": "code",
   "execution_count": null,
   "metadata": {},
   "outputs": [],
   "source": []
  },
  {
   "attachments": {},
   "cell_type": "markdown",
   "metadata": {},
   "source": [
    "3) Importar el modulo \"unittest\" y crear los siguientes casos de pruebas sobre la clase utilizada en el punto 2<br>\n",
    "Creacion del objeto incorrecta<br>\n",
    "Creacion correcta del objeto<br>\n",
    "Metodo valor_modal()<br>\n",
    "\n",
    "Se puede usar \"raise ValueError()\" en la creación de la clase para verificar el error. Investigar sobre esta funcionalidad."
   ]
  },
  {
   "cell_type": "code",
   "execution_count": null,
   "metadata": {},
   "outputs": [],
   "source": []
  },
  {
   "attachments": {},
   "cell_type": "markdown",
   "metadata": {},
   "source": [
    "4) Probar una creación incorrecta y visualizar la salida del \"raise\""
   ]
  },
  {
   "cell_type": "code",
   "execution_count": null,
   "metadata": {},
   "outputs": [],
   "source": []
  },
  {
   "attachments": {},
   "cell_type": "markdown",
   "metadata": {},
   "source": [
    "6) Agregar casos de pruebas para el método verifica_primos() realizando el cambio en la clase, para que devuelva una lista de True o False en función de que el elemento en la posisicón sea o no primo"
   ]
  },
  {
   "cell_type": "code",
   "execution_count": null,
   "metadata": {},
   "outputs": [],
   "source": []
  },
  {
   "attachments": {},
   "cell_type": "markdown",
   "metadata": {},
   "source": [
    "7) Agregar casos de pruebas para el método conversion_grados()"
   ]
  },
  {
   "cell_type": "code",
   "execution_count": null,
   "metadata": {},
   "outputs": [],
   "source": []
  },
  {
   "attachments": {},
   "cell_type": "markdown",
   "metadata": {},
   "source": [
    "8) Agregar casos de pruebas para el método factorial()"
   ]
  },
  {
   "cell_type": "code",
   "execution_count": null,
   "metadata": {},
   "outputs": [],
   "source": []
  }
 ],
 "metadata": {
  "kernelspec": {
   "display_name": "Python 3",
   "language": "python",
   "name": "python3"
  },
  "language_info": {
   "codemirror_mode": {
    "name": "ipython",
    "version": 3
   },
   "file_extension": ".py",
   "mimetype": "text/x-python",
   "name": "python",
   "nbconvert_exporter": "python",
   "pygments_lexer": "ipython3",
   "version": "3.13.5"
  }
 },
 "nbformat": 4,
 "nbformat_minor": 4
}
